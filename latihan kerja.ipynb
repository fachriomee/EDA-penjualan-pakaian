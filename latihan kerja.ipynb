{
 "cells": [
  {
   "cell_type": "markdown",
   "id": "684d5445",
   "metadata": {},
   "source": [
    "# import library"
   ]
  },
  {
   "cell_type": "code",
   "execution_count": 66,
   "id": "e047bd8d",
   "metadata": {},
   "outputs": [],
   "source": [
    "import numpy as np\n",
    "import pandas as pd\n",
    "import matplotlib.pyplot as plt\n",
    "import seaborn as sns"
   ]
  },
  {
   "cell_type": "markdown",
   "id": "0eebac8c",
   "metadata": {},
   "source": [
    "# membuka file"
   ]
  },
  {
   "cell_type": "code",
   "execution_count": 67,
   "id": "83c90912",
   "metadata": {},
   "outputs": [],
   "source": [
    "df = pd.read_excel(r'D:\\purwadhika\\lamaran kerja\\3\\Test-Analyst.xlsx')"
   ]
  },
  {
   "cell_type": "code",
   "execution_count": 68,
   "id": "6d49843d",
   "metadata": {},
   "outputs": [
    {
     "data": {
      "text/html": [
       "<div>\n",
       "<style scoped>\n",
       "    .dataframe tbody tr th:only-of-type {\n",
       "        vertical-align: middle;\n",
       "    }\n",
       "\n",
       "    .dataframe tbody tr th {\n",
       "        vertical-align: top;\n",
       "    }\n",
       "\n",
       "    .dataframe thead th {\n",
       "        text-align: right;\n",
       "    }\n",
       "</style>\n",
       "<table border=\"1\" class=\"dataframe\">\n",
       "  <thead>\n",
       "    <tr style=\"text-align: right;\">\n",
       "      <th></th>\n",
       "      <th>product_title</th>\n",
       "      <th>shipping_city</th>\n",
       "      <th>referrer_source</th>\n",
       "      <th>orders</th>\n",
       "      <th>gross_sales</th>\n",
       "      <th>discounts</th>\n",
       "      <th>returns</th>\n",
       "      <th>net_sales</th>\n",
       "      <th>shipping</th>\n",
       "      <th>total_sales</th>\n",
       "      <th>net_quantity</th>\n",
       "    </tr>\n",
       "  </thead>\n",
       "  <tbody>\n",
       "    <tr>\n",
       "      <th>0</th>\n",
       "      <td>Canary Scarf Seafoam</td>\n",
       "      <td>Kota Palembang</td>\n",
       "      <td>Social</td>\n",
       "      <td>1.0</td>\n",
       "      <td>275.000.000</td>\n",
       "      <td>0.0</td>\n",
       "      <td>0.0</td>\n",
       "      <td>275.000.000</td>\n",
       "      <td>0.0</td>\n",
       "      <td>275.000.000</td>\n",
       "      <td>1.0</td>\n",
       "    </tr>\n",
       "    <tr>\n",
       "      <th>1</th>\n",
       "      <td>Claire Blouse Burnt Cinnamon</td>\n",
       "      <td>Kota Palembang</td>\n",
       "      <td>Social</td>\n",
       "      <td>1.0</td>\n",
       "      <td>238.000.000</td>\n",
       "      <td>0.0</td>\n",
       "      <td>0.0</td>\n",
       "      <td>238.000.000</td>\n",
       "      <td>0.0</td>\n",
       "      <td>238.000.000</td>\n",
       "      <td>1.0</td>\n",
       "    </tr>\n",
       "    <tr>\n",
       "      <th>2</th>\n",
       "      <td>Shea Blouse Sahara</td>\n",
       "      <td>Kab. Bogor</td>\n",
       "      <td>Social</td>\n",
       "      <td>1.0</td>\n",
       "      <td>535.000.000</td>\n",
       "      <td>0.0</td>\n",
       "      <td>0.0</td>\n",
       "      <td>535.000.000</td>\n",
       "      <td>0.0</td>\n",
       "      <td>535.000.000</td>\n",
       "      <td>1.0</td>\n",
       "    </tr>\n",
       "    <tr>\n",
       "      <th>3</th>\n",
       "      <td>Sheila Dress Clove</td>\n",
       "      <td>Kab. Bogor</td>\n",
       "      <td>Social</td>\n",
       "      <td>1.0</td>\n",
       "      <td>475.000.000</td>\n",
       "      <td>0.0</td>\n",
       "      <td>0.0</td>\n",
       "      <td>475.000.000</td>\n",
       "      <td>0.0</td>\n",
       "      <td>475.000.000</td>\n",
       "      <td>1.0</td>\n",
       "    </tr>\n",
       "    <tr>\n",
       "      <th>4</th>\n",
       "      <td>Amaya Blouse Hazelwood</td>\n",
       "      <td>Kab. Bogor</td>\n",
       "      <td>Social</td>\n",
       "      <td>1.0</td>\n",
       "      <td>545.000.000</td>\n",
       "      <td>0.0</td>\n",
       "      <td>0.0</td>\n",
       "      <td>545.000.000</td>\n",
       "      <td>0.0</td>\n",
       "      <td>545.000.000</td>\n",
       "      <td>1.0</td>\n",
       "    </tr>\n",
       "    <tr>\n",
       "      <th>...</th>\n",
       "      <td>...</td>\n",
       "      <td>...</td>\n",
       "      <td>...</td>\n",
       "      <td>...</td>\n",
       "      <td>...</td>\n",
       "      <td>...</td>\n",
       "      <td>...</td>\n",
       "      <td>...</td>\n",
       "      <td>...</td>\n",
       "      <td>...</td>\n",
       "      <td>...</td>\n",
       "    </tr>\n",
       "    <tr>\n",
       "      <th>214</th>\n",
       "      <td>Bella Blouse Strawberry</td>\n",
       "      <td>Surabaya</td>\n",
       "      <td>Search</td>\n",
       "      <td>1.0</td>\n",
       "      <td>350.000.000</td>\n",
       "      <td>0.0</td>\n",
       "      <td>0.0</td>\n",
       "      <td>350.000.000</td>\n",
       "      <td>0.0</td>\n",
       "      <td>350.000.000</td>\n",
       "      <td>1.0</td>\n",
       "    </tr>\n",
       "    <tr>\n",
       "      <th>215</th>\n",
       "      <td>Valerie Dress Gravel</td>\n",
       "      <td>Kab. Jember</td>\n",
       "      <td>Social</td>\n",
       "      <td>1.0</td>\n",
       "      <td>475.000.000</td>\n",
       "      <td>0.0</td>\n",
       "      <td>0.0</td>\n",
       "      <td>475.000.000</td>\n",
       "      <td>0.0</td>\n",
       "      <td>475.000.000</td>\n",
       "      <td>1.0</td>\n",
       "    </tr>\n",
       "    <tr>\n",
       "      <th>216</th>\n",
       "      <td>Alice Blouse Caramel Latte</td>\n",
       "      <td>Jakarta</td>\n",
       "      <td>Social</td>\n",
       "      <td>1.0</td>\n",
       "      <td>200.000.000</td>\n",
       "      <td>0.0</td>\n",
       "      <td>0.0</td>\n",
       "      <td>200.000.000</td>\n",
       "      <td>0.0</td>\n",
       "      <td>200.000.000</td>\n",
       "      <td>1.0</td>\n",
       "    </tr>\n",
       "    <tr>\n",
       "      <th>217</th>\n",
       "      <td>Amanda Dress Almond Latte</td>\n",
       "      <td>Kab. Jember</td>\n",
       "      <td>Social</td>\n",
       "      <td>1.0</td>\n",
       "      <td>475.000.000</td>\n",
       "      <td>0.0</td>\n",
       "      <td>0.0</td>\n",
       "      <td>475.000.000</td>\n",
       "      <td>0.0</td>\n",
       "      <td>475.000.000</td>\n",
       "      <td>1.0</td>\n",
       "    </tr>\n",
       "    <tr>\n",
       "      <th>218</th>\n",
       "      <td>Ulos Blouse Powder Rose</td>\n",
       "      <td>Jakarta</td>\n",
       "      <td>Social</td>\n",
       "      <td>1.0</td>\n",
       "      <td>350.000.000</td>\n",
       "      <td>0.0</td>\n",
       "      <td>0.0</td>\n",
       "      <td>350.000.000</td>\n",
       "      <td>0.0</td>\n",
       "      <td>350.000.000</td>\n",
       "      <td>1.0</td>\n",
       "    </tr>\n",
       "  </tbody>\n",
       "</table>\n",
       "<p>219 rows × 11 columns</p>\n",
       "</div>"
      ],
      "text/plain": [
       "                    product_title   shipping_city referrer_source  orders  \\\n",
       "0            Canary Scarf Seafoam  Kota Palembang          Social     1.0   \n",
       "1    Claire Blouse Burnt Cinnamon  Kota Palembang          Social     1.0   \n",
       "2              Shea Blouse Sahara      Kab. Bogor          Social     1.0   \n",
       "3              Sheila Dress Clove      Kab. Bogor          Social     1.0   \n",
       "4          Amaya Blouse Hazelwood      Kab. Bogor          Social     1.0   \n",
       "..                            ...             ...             ...     ...   \n",
       "214       Bella Blouse Strawberry        Surabaya          Search     1.0   \n",
       "215          Valerie Dress Gravel     Kab. Jember          Social     1.0   \n",
       "216    Alice Blouse Caramel Latte         Jakarta          Social     1.0   \n",
       "217     Amanda Dress Almond Latte     Kab. Jember          Social     1.0   \n",
       "218       Ulos Blouse Powder Rose         Jakarta          Social     1.0   \n",
       "\n",
       "     gross_sales discounts returns    net_sales  shipping  total_sales  \\\n",
       "0    275.000.000       0.0     0.0  275.000.000       0.0  275.000.000   \n",
       "1    238.000.000       0.0     0.0  238.000.000       0.0  238.000.000   \n",
       "2    535.000.000       0.0     0.0  535.000.000       0.0  535.000.000   \n",
       "3    475.000.000       0.0     0.0  475.000.000       0.0  475.000.000   \n",
       "4    545.000.000       0.0     0.0  545.000.000       0.0  545.000.000   \n",
       "..           ...       ...     ...          ...       ...          ...   \n",
       "214  350.000.000       0.0     0.0  350.000.000       0.0  350.000.000   \n",
       "215  475.000.000       0.0     0.0  475.000.000       0.0  475.000.000   \n",
       "216  200.000.000       0.0     0.0  200.000.000       0.0  200.000.000   \n",
       "217  475.000.000       0.0     0.0  475.000.000       0.0  475.000.000   \n",
       "218  350.000.000       0.0     0.0  350.000.000       0.0  350.000.000   \n",
       "\n",
       "     net_quantity  \n",
       "0             1.0  \n",
       "1             1.0  \n",
       "2             1.0  \n",
       "3             1.0  \n",
       "4             1.0  \n",
       "..            ...  \n",
       "214           1.0  \n",
       "215           1.0  \n",
       "216           1.0  \n",
       "217           1.0  \n",
       "218           1.0  \n",
       "\n",
       "[219 rows x 11 columns]"
      ]
     },
     "execution_count": 68,
     "metadata": {},
     "output_type": "execute_result"
    }
   ],
   "source": [
    "df"
   ]
  },
  {
   "cell_type": "markdown",
   "id": "47c1a54c",
   "metadata": {},
   "source": [
    "# deskripsi tiap kolom\n",
    "- product_title : nama produk\n",
    "- shipping_city : kota/kab tempat tujuan pengiriman barang\n",
    "- referrer_source\n",
    "- orders : jumlah barang yang di order\n",
    "- gross_sales : harga barang sebelum diskon\n",
    "- discounts : besarnya diskon dalam rupiah\n",
    "- returns : jumlah pengembalian barang\n",
    "- net_sales : harga barang setelah di diskon\n",
    "- shipping : biaya pengangkutan barang\n",
    "- total_sales : biaya net sales ditambah total sales\n",
    "- net_quantity"
   ]
  },
  {
   "cell_type": "markdown",
   "id": "2329ae27",
   "metadata": {},
   "source": [
    "# mengetahui informasi dari dataset"
   ]
  },
  {
   "cell_type": "code",
   "execution_count": 69,
   "id": "e44ac7e9",
   "metadata": {},
   "outputs": [
    {
     "data": {
      "text/html": [
       "<div>\n",
       "<style scoped>\n",
       "    .dataframe tbody tr th:only-of-type {\n",
       "        vertical-align: middle;\n",
       "    }\n",
       "\n",
       "    .dataframe tbody tr th {\n",
       "        vertical-align: top;\n",
       "    }\n",
       "\n",
       "    .dataframe thead th {\n",
       "        text-align: right;\n",
       "    }\n",
       "</style>\n",
       "<table border=\"1\" class=\"dataframe\">\n",
       "  <thead>\n",
       "    <tr style=\"text-align: right;\">\n",
       "      <th></th>\n",
       "      <th>Features</th>\n",
       "      <th>DataType</th>\n",
       "      <th>Null</th>\n",
       "      <th>NullPercentage</th>\n",
       "      <th>Unique</th>\n",
       "    </tr>\n",
       "  </thead>\n",
       "  <tbody>\n",
       "    <tr>\n",
       "      <th>0</th>\n",
       "      <td>product_title</td>\n",
       "      <td>object</td>\n",
       "      <td>0</td>\n",
       "      <td>0.0</td>\n",
       "      <td>147</td>\n",
       "    </tr>\n",
       "    <tr>\n",
       "      <th>1</th>\n",
       "      <td>shipping_city</td>\n",
       "      <td>object</td>\n",
       "      <td>0</td>\n",
       "      <td>0.0</td>\n",
       "      <td>94</td>\n",
       "    </tr>\n",
       "    <tr>\n",
       "      <th>2</th>\n",
       "      <td>referrer_source</td>\n",
       "      <td>object</td>\n",
       "      <td>0</td>\n",
       "      <td>0.0</td>\n",
       "      <td>4</td>\n",
       "    </tr>\n",
       "    <tr>\n",
       "      <th>3</th>\n",
       "      <td>orders</td>\n",
       "      <td>float64</td>\n",
       "      <td>0</td>\n",
       "      <td>0.0</td>\n",
       "      <td>3</td>\n",
       "    </tr>\n",
       "    <tr>\n",
       "      <th>4</th>\n",
       "      <td>gross_sales</td>\n",
       "      <td>object</td>\n",
       "      <td>0</td>\n",
       "      <td>0.0</td>\n",
       "      <td>50</td>\n",
       "    </tr>\n",
       "    <tr>\n",
       "      <th>5</th>\n",
       "      <td>discounts</td>\n",
       "      <td>object</td>\n",
       "      <td>0</td>\n",
       "      <td>0.0</td>\n",
       "      <td>9</td>\n",
       "    </tr>\n",
       "    <tr>\n",
       "      <th>6</th>\n",
       "      <td>returns</td>\n",
       "      <td>object</td>\n",
       "      <td>0</td>\n",
       "      <td>0.0</td>\n",
       "      <td>2</td>\n",
       "    </tr>\n",
       "    <tr>\n",
       "      <th>7</th>\n",
       "      <td>net_sales</td>\n",
       "      <td>object</td>\n",
       "      <td>0</td>\n",
       "      <td>0.0</td>\n",
       "      <td>57</td>\n",
       "    </tr>\n",
       "    <tr>\n",
       "      <th>8</th>\n",
       "      <td>shipping</td>\n",
       "      <td>float64</td>\n",
       "      <td>0</td>\n",
       "      <td>0.0</td>\n",
       "      <td>1</td>\n",
       "    </tr>\n",
       "    <tr>\n",
       "      <th>9</th>\n",
       "      <td>total_sales</td>\n",
       "      <td>object</td>\n",
       "      <td>0</td>\n",
       "      <td>0.0</td>\n",
       "      <td>57</td>\n",
       "    </tr>\n",
       "    <tr>\n",
       "      <th>10</th>\n",
       "      <td>net_quantity</td>\n",
       "      <td>float64</td>\n",
       "      <td>0</td>\n",
       "      <td>0.0</td>\n",
       "      <td>6</td>\n",
       "    </tr>\n",
       "  </tbody>\n",
       "</table>\n",
       "</div>"
      ],
      "text/plain": [
       "           Features DataType  Null  NullPercentage  Unique\n",
       "0     product_title   object     0             0.0     147\n",
       "1     shipping_city   object     0             0.0      94\n",
       "2   referrer_source   object     0             0.0       4\n",
       "3            orders  float64     0             0.0       3\n",
       "4       gross_sales   object     0             0.0      50\n",
       "5         discounts   object     0             0.0       9\n",
       "6           returns   object     0             0.0       2\n",
       "7         net_sales   object     0             0.0      57\n",
       "8          shipping  float64     0             0.0       1\n",
       "9       total_sales   object     0             0.0      57\n",
       "10     net_quantity  float64     0             0.0       6"
      ]
     },
     "execution_count": 69,
     "metadata": {},
     "output_type": "execute_result"
    }
   ],
   "source": [
    "Dataset = []\n",
    "for i in df.columns :\n",
    "    Dataset.append([\n",
    "        i,\n",
    "        df[i].dtypes,\n",
    "        df[i].isna().sum(),\n",
    "        round((df[i].isna().sum()/len(df))*100,2),\n",
    "        df[i].nunique()\n",
    "    ])\n",
    "pd.DataFrame(data = Dataset,\n",
    "            columns=[\n",
    "                'Features',\n",
    "                'DataType',\n",
    "                'Null',\n",
    "                'NullPercentage',\n",
    "                'Unique'\n",
    "            ])"
   ]
  },
  {
   "cell_type": "markdown",
   "id": "303a52e2",
   "metadata": {},
   "source": [
    "# mengecek data terduplikasi dan missing value"
   ]
  },
  {
   "cell_type": "markdown",
   "id": "f1f4de30",
   "metadata": {},
   "source": [
    "mengecek data terduplikasi"
   ]
  },
  {
   "cell_type": "code",
   "execution_count": 70,
   "id": "5c32e731",
   "metadata": {},
   "outputs": [
    {
     "data": {
      "text/plain": [
       "False"
      ]
     },
     "execution_count": 70,
     "metadata": {},
     "output_type": "execute_result"
    }
   ],
   "source": [
    "df.duplicated().any()"
   ]
  },
  {
   "cell_type": "markdown",
   "id": "ef6d8890",
   "metadata": {},
   "source": [
    "mengecek missing value"
   ]
  },
  {
   "cell_type": "code",
   "execution_count": 71,
   "id": "047b1af7",
   "metadata": {},
   "outputs": [
    {
     "data": {
      "text/plain": [
       "product_title      0\n",
       "shipping_city      0\n",
       "referrer_source    0\n",
       "orders             0\n",
       "gross_sales        0\n",
       "discounts          0\n",
       "returns            0\n",
       "net_sales          0\n",
       "shipping           0\n",
       "total_sales        0\n",
       "net_quantity       0\n",
       "dtype: int64"
      ]
     },
     "execution_count": 71,
     "metadata": {},
     "output_type": "execute_result"
    }
   ],
   "source": [
    "df.isna().sum()"
   ]
  },
  {
   "cell_type": "markdown",
   "id": "f2317e19",
   "metadata": {},
   "source": [
    "# melihat dan mengubah isi dari beberapa kolom"
   ]
  },
  {
   "cell_type": "markdown",
   "id": "cea4d6cf",
   "metadata": {},
   "source": [
    "mengecek isi kolom product title"
   ]
  },
  {
   "cell_type": "code",
   "execution_count": 72,
   "id": "f4f09c9f",
   "metadata": {},
   "outputs": [
    {
     "data": {
      "text/plain": [
       "Claire Blouse Crystal Ruby    8\n",
       "Amaya Blouse Hazelwood        5\n",
       "Ruby Scarf Ocean Mist         5\n",
       "Selena Dress Misty Grey       4\n",
       "Talia Dress Woodrose          4\n",
       "Alice Brooch                  4\n",
       "Name: product_title, dtype: int64"
      ]
     },
     "execution_count": 72,
     "metadata": {},
     "output_type": "execute_result"
    }
   ],
   "source": [
    "df['product_title'].value_counts().head(6)"
   ]
  },
  {
   "cell_type": "markdown",
   "id": "61bcfb20",
   "metadata": {},
   "source": [
    "mengecek isi kolom shipping city"
   ]
  },
  {
   "cell_type": "code",
   "execution_count": 139,
   "id": "7b2f4ad5",
   "metadata": {},
   "outputs": [
    {
     "data": {
      "text/plain": [
       "Kota Palembang               9\n",
       "Tangerang Selatan            9\n",
       "Kota Bekasi                  8\n",
       "Kota Tangerang               8\n",
       "Kota Adm. Jakarta Selatan    7\n",
       "                            ..\n",
       "Kab. Probolinggo             1\n",
       "Sleman                       1\n",
       "Ketapant                     1\n",
       "Kab. Pasaman Barat           1\n",
       "Kota Blitar                  1\n",
       "Name: shipping_city, Length: 94, dtype: int64"
      ]
     },
     "execution_count": 139,
     "metadata": {},
     "output_type": "execute_result"
    }
   ],
   "source": [
    "df['shipping_city'].value_counts()"
   ]
  },
  {
   "cell_type": "markdown",
   "id": "b45126aa",
   "metadata": {},
   "source": [
    "mengecek isi kolom referrer_source"
   ]
  },
  {
   "cell_type": "code",
   "execution_count": 74,
   "id": "2b1dfb84",
   "metadata": {},
   "outputs": [
    {
     "data": {
      "text/plain": [
       "Social     114\n",
       "Direct      68\n",
       "Search      35\n",
       "Unknown      2\n",
       "Name: referrer_source, dtype: int64"
      ]
     },
     "execution_count": 74,
     "metadata": {},
     "output_type": "execute_result"
    }
   ],
   "source": [
    "df['referrer_source'].value_counts()"
   ]
  },
  {
   "cell_type": "markdown",
   "id": "5c0725de",
   "metadata": {},
   "source": [
    "mengubah isi kolom unknown pada kolom referrer_source dengan modus kolom"
   ]
  },
  {
   "cell_type": "code",
   "execution_count": 75,
   "id": "02607777",
   "metadata": {},
   "outputs": [],
   "source": [
    "df['referrer_source'] = df['referrer_source'].replace(['Unknown'],'Social')"
   ]
  },
  {
   "cell_type": "markdown",
   "id": "e6629fb9",
   "metadata": {},
   "source": [
    "mengecek isi kolom orders"
   ]
  },
  {
   "cell_type": "code",
   "execution_count": 76,
   "id": "ac0a7d5c",
   "metadata": {},
   "outputs": [
    {
     "data": {
      "text/plain": [
       "1.0    217\n",
       "0.0      1\n",
       "2.0      1\n",
       "Name: orders, dtype: int64"
      ]
     },
     "execution_count": 76,
     "metadata": {},
     "output_type": "execute_result"
    }
   ],
   "source": [
    "df['orders'].value_counts()"
   ]
  },
  {
   "cell_type": "markdown",
   "id": "2bbe8977",
   "metadata": {},
   "source": [
    "mengubah isi kolom orders yang bernilai 0 menjadi 1 karena diduga kuat terjadi kesalahan saat mengisi data. Dugaan ini diperkuat dengan fakta bahwa kolom orders bermakna jumlah barang yang di beli, jika jumlah barang yang dibeli 0 berarti tidak ada pembelian barang"
   ]
  },
  {
   "cell_type": "code",
   "execution_count": 88,
   "id": "882fa66a",
   "metadata": {},
   "outputs": [],
   "source": [
    "df['orders'] = df['orders'].replace([0.0], 1.0)"
   ]
  },
  {
   "cell_type": "markdown",
   "id": "c1600b9a",
   "metadata": {},
   "source": [
    "mengecek isi kolom gross sales"
   ]
  },
  {
   "cell_type": "code",
   "execution_count": 77,
   "id": "1f19142f",
   "metadata": {},
   "outputs": [
    {
     "data": {
      "text/plain": [
       "475.000.000      33\n",
       "350.000.000      23\n",
       "295.000.000      22\n",
       "330.000.000      21\n",
       "238.000.000      15\n",
       "385.000.000      10\n",
       "535.000.000       7\n",
       "545.000.000       6\n",
       "200.000.000       5\n",
       "269.500.000       5\n",
       "395.000.000       4\n",
       "235.000.000       4\n",
       "565.000.000       4\n",
       "649.000.000       4\n",
       "455.000.000       4\n",
       "245.000.000       3\n",
       "575.000.000       3\n",
       "950.000.000       3\n",
       "365.000.000       3\n",
       "185.000.000       3\n",
       "845.000.000       2\n",
       "495.000.000       2\n",
       "345.000.000       2\n",
       "325.000.000       2\n",
       "685.000.000       2\n",
       "205.000.000       2\n",
       "525.000.000       2\n",
       "1.125.000.000     1\n",
       "650.000.000       1\n",
       "170.000.000       1\n",
       "275.000.000       1\n",
       "2.260.000.000     1\n",
       "590.000.000       1\n",
       "1.183.000.000     1\n",
       "1.130.000.000     1\n",
       "910.000.000       1\n",
       "1.425.000.000     1\n",
       "676.000.000       1\n",
       "169.000.000       1\n",
       "115.000.000       1\n",
       "0.0               1\n",
       "700.000.000       1\n",
       "540.000.000       1\n",
       "485.000.000       1\n",
       "1.900.000.000     1\n",
       "1.050.000.000     1\n",
       "262.500.000       1\n",
       "250.000.000       1\n",
       "225.000.000       1\n",
       "549.000.000       1\n",
       "Name: gross_sales, dtype: int64"
      ]
     },
     "execution_count": 77,
     "metadata": {},
     "output_type": "execute_result"
    }
   ],
   "source": [
    "df['gross_sales'].value_counts()"
   ]
  },
  {
   "cell_type": "markdown",
   "id": "2579d990",
   "metadata": {},
   "source": [
    "mengubah isi kolom gross sales dengan menghilangkan titik"
   ]
  },
  {
   "cell_type": "code",
   "execution_count": 78,
   "id": "8f8e256f",
   "metadata": {},
   "outputs": [
    {
     "name": "stderr",
     "output_type": "stream",
     "text": [
      "C:\\Users\\fachri\\AppData\\Local\\Temp\\ipykernel_9556\\2426276377.py:1: FutureWarning: The default value of regex will change from True to False in a future version. In addition, single character regular expressions will *not* be treated as literal strings when regex=True.\n",
      "  df['gross_sales'] = df['gross_sales'].str.replace('.','')\n"
     ]
    }
   ],
   "source": [
    "df['gross_sales'] = df['gross_sales'].str.replace('.','')"
   ]
  },
  {
   "cell_type": "markdown",
   "id": "40b3d061",
   "metadata": {},
   "source": [
    "setelah kolom gross sales diperbaiki isi kolomnya dengan menghilangkan titik, terdapat missing value yang menyebabkan kolom tidak bisa ditransformasi menjadi integer"
   ]
  },
  {
   "cell_type": "code",
   "execution_count": 80,
   "id": "41cfd2b2",
   "metadata": {},
   "outputs": [
    {
     "data": {
      "text/html": [
       "<div>\n",
       "<style scoped>\n",
       "    .dataframe tbody tr th:only-of-type {\n",
       "        vertical-align: middle;\n",
       "    }\n",
       "\n",
       "    .dataframe tbody tr th {\n",
       "        vertical-align: top;\n",
       "    }\n",
       "\n",
       "    .dataframe thead th {\n",
       "        text-align: right;\n",
       "    }\n",
       "</style>\n",
       "<table border=\"1\" class=\"dataframe\">\n",
       "  <thead>\n",
       "    <tr style=\"text-align: right;\">\n",
       "      <th></th>\n",
       "      <th>product_title</th>\n",
       "      <th>shipping_city</th>\n",
       "      <th>referrer_source</th>\n",
       "      <th>orders</th>\n",
       "      <th>gross_sales</th>\n",
       "      <th>discounts</th>\n",
       "      <th>returns</th>\n",
       "      <th>net_sales</th>\n",
       "      <th>shipping</th>\n",
       "      <th>total_sales</th>\n",
       "      <th>net_quantity</th>\n",
       "    </tr>\n",
       "  </thead>\n",
       "  <tbody>\n",
       "    <tr>\n",
       "      <th>96</th>\n",
       "      <td>Ruby Shirt Ocean Mist</td>\n",
       "      <td>Kota Bandung</td>\n",
       "      <td>Social</td>\n",
       "      <td>0.0</td>\n",
       "      <td>NaN</td>\n",
       "      <td>0.0</td>\n",
       "      <td>-495.000.000</td>\n",
       "      <td>-495.000.000</td>\n",
       "      <td>0.0</td>\n",
       "      <td>-495.000.000</td>\n",
       "      <td>-1.0</td>\n",
       "    </tr>\n",
       "  </tbody>\n",
       "</table>\n",
       "</div>"
      ],
      "text/plain": [
       "            product_title shipping_city referrer_source  orders gross_sales  \\\n",
       "96  Ruby Shirt Ocean Mist  Kota Bandung          Social     0.0         NaN   \n",
       "\n",
       "   discounts       returns     net_sales  shipping   total_sales  net_quantity  \n",
       "96       0.0  -495.000.000  -495.000.000       0.0  -495.000.000          -1.0  "
      ]
     },
     "execution_count": 80,
     "metadata": {},
     "output_type": "execute_result"
    }
   ],
   "source": [
    "df[df['gross_sales'].isnull()]"
   ]
  },
  {
   "cell_type": "markdown",
   "id": "2aed45d6",
   "metadata": {},
   "source": [
    "karena missing value di kolom gross_sales hanya 1 maka dilakukan penghapusan missing value, sekaligus untuk mengubah kolom ke integer"
   ]
  },
  {
   "cell_type": "code",
   "execution_count": 83,
   "id": "333a600b",
   "metadata": {},
   "outputs": [],
   "source": [
    "df.dropna(subset=['gross_sales'], inplace = True)"
   ]
  },
  {
   "cell_type": "markdown",
   "id": "9b08f866",
   "metadata": {},
   "source": [
    "mengubah isi kolom gross sales menjadi integer"
   ]
  },
  {
   "cell_type": "code",
   "execution_count": 85,
   "id": "b5596945",
   "metadata": {},
   "outputs": [],
   "source": [
    "df['gross_sales'] = df['gross_sales'].astype('int64')"
   ]
  },
  {
   "cell_type": "markdown",
   "id": "92a35641",
   "metadata": {},
   "source": [
    "melihat isi kolom diskon"
   ]
  },
  {
   "cell_type": "code",
   "execution_count": 87,
   "id": "4897f653",
   "metadata": {},
   "outputs": [
    {
     "data": {
      "text/plain": [
       "0.0             209\n",
       "-50.000.000       2\n",
       "-5.724.640        1\n",
       "-4.275.360        1\n",
       "-3.418.810        1\n",
       "-100.000.000      1\n",
       "-6.581.190        1\n",
       "-10.000.000       1\n",
       "-20.000.000       1\n",
       "Name: discounts, dtype: int64"
      ]
     },
     "execution_count": 87,
     "metadata": {},
     "output_type": "execute_result"
    }
   ],
   "source": [
    "df['discounts'].value_counts()"
   ]
  },
  {
   "cell_type": "markdown",
   "id": "92f44233",
   "metadata": {},
   "source": [
    "melihat isi kolom returns"
   ]
  },
  {
   "cell_type": "code",
   "execution_count": 89,
   "id": "c40a0537",
   "metadata": {},
   "outputs": [
    {
     "data": {
      "text/plain": [
       "0.0    218\n",
       "Name: returns, dtype: int64"
      ]
     },
     "execution_count": 89,
     "metadata": {},
     "output_type": "execute_result"
    }
   ],
   "source": [
    "df['returns'].value_counts()"
   ]
  },
  {
   "cell_type": "markdown",
   "id": "108f450b",
   "metadata": {},
   "source": [
    "melihat isi kolom shipping"
   ]
  },
  {
   "cell_type": "code",
   "execution_count": 90,
   "id": "84bc4ef0",
   "metadata": {},
   "outputs": [
    {
     "data": {
      "text/plain": [
       "0.0    218\n",
       "Name: shipping, dtype: int64"
      ]
     },
     "execution_count": 90,
     "metadata": {},
     "output_type": "execute_result"
    }
   ],
   "source": [
    "df['shipping'].value_counts()"
   ]
  },
  {
   "cell_type": "markdown",
   "id": "5ecea0e3",
   "metadata": {},
   "source": [
    "melihat isi kolom total sales"
   ]
  },
  {
   "cell_type": "code",
   "execution_count": 92,
   "id": "df2020d0",
   "metadata": {},
   "outputs": [
    {
     "data": {
      "text/plain": [
       "475.000.000      32\n",
       "350.000.000      23\n",
       "295.000.000      21\n",
       "330.000.000      21\n",
       "238.000.000      15\n",
       "385.000.000       7\n",
       "535.000.000       7\n",
       "545.000.000       6\n",
       "269.500.000       5\n",
       "235.000.000       4\n",
       "455.000.000       4\n",
       "565.000.000       4\n",
       "649.000.000       4\n",
       "200.000.000       4\n",
       "245.000.000       3\n",
       "575.000.000       3\n",
       "395.000.000       3\n",
       "365.000.000       3\n",
       "185.000.000       3\n",
       "950.000.000       3\n",
       "345.000.000       2\n",
       "845.000.000       2\n",
       "495.000.000       2\n",
       "375.000.000       2\n",
       "325.000.000       2\n",
       "205.000.000       2\n",
       "525.000.000       2\n",
       "170.000.000       1\n",
       "1.125.000.000     1\n",
       "1.183.000.000     1\n",
       "169.000.000       1\n",
       "275.000.000       1\n",
       "650.000.000       1\n",
       "2.240.000.000     1\n",
       "115.000.000       1\n",
       "1.425.000.000     1\n",
       "1.130.000.000     1\n",
       "910.000.000       1\n",
       "549.000.000       1\n",
       "590.000.000       1\n",
       "1.900.000.000     1\n",
       "635.000.000       1\n",
       "700.000.000       1\n",
       "378.418.810       1\n",
       "540.000.000       1\n",
       "196.581.190       1\n",
       "485.000.000       1\n",
       "676.000.000       1\n",
       "1.050.000.000     1\n",
       "290.724.640       1\n",
       "389.275.360       1\n",
       "262.500.000       1\n",
       "250.000.000       1\n",
       "685.000.000       1\n",
       "225.000.000       1\n",
       "335.000.000       1\n",
       "Name: total_sales, dtype: int64"
      ]
     },
     "execution_count": 92,
     "metadata": {},
     "output_type": "execute_result"
    }
   ],
   "source": [
    "df['total_sales'].value_counts()"
   ]
  },
  {
   "cell_type": "markdown",
   "id": "e7c1256e",
   "metadata": {},
   "source": [
    "mengubah format kolom total sales"
   ]
  },
  {
   "cell_type": "code",
   "execution_count": 95,
   "id": "f1e7fb95",
   "metadata": {},
   "outputs": [
    {
     "name": "stderr",
     "output_type": "stream",
     "text": [
      "C:\\Users\\fachri\\AppData\\Local\\Temp\\ipykernel_9556\\2688855075.py:1: FutureWarning: The default value of regex will change from True to False in a future version. In addition, single character regular expressions will *not* be treated as literal strings when regex=True.\n",
      "  df['total_sales'] = df['total_sales'].str.replace('.','')\n"
     ]
    }
   ],
   "source": [
    "df['total_sales'] = df['total_sales'].str.replace('.','')"
   ]
  },
  {
   "cell_type": "markdown",
   "id": "dda94b6e",
   "metadata": {},
   "source": [
    "mengubah isi kolom total sales menjadi integer"
   ]
  },
  {
   "cell_type": "code",
   "execution_count": 96,
   "id": "ca3dd400",
   "metadata": {},
   "outputs": [],
   "source": [
    "df['total_sales'] = df['total_sales'].astype('int64')"
   ]
  },
  {
   "cell_type": "markdown",
   "id": "bc63850b",
   "metadata": {},
   "source": [
    "melihat isi kolom net quantity"
   ]
  },
  {
   "cell_type": "code",
   "execution_count": 91,
   "id": "8eceeeb4",
   "metadata": {},
   "outputs": [
    {
     "data": {
      "text/plain": [
       "1.0    203\n",
       "2.0      8\n",
       "3.0      3\n",
       "4.0      3\n",
       "7.0      1\n",
       "Name: net_quantity, dtype: int64"
      ]
     },
     "execution_count": 91,
     "metadata": {},
     "output_type": "execute_result"
    }
   ],
   "source": [
    "df['net_quantity'].value_counts()"
   ]
  },
  {
   "cell_type": "markdown",
   "id": "7632aa8f",
   "metadata": {},
   "source": [
    "melihat isi kolom net sales"
   ]
  },
  {
   "cell_type": "code",
   "execution_count": 94,
   "id": "a526b07c",
   "metadata": {},
   "outputs": [
    {
     "data": {
      "text/plain": [
       "475.000.000      32\n",
       "350.000.000      23\n",
       "295.000.000      21\n",
       "330.000.000      21\n",
       "238.000.000      15\n",
       "385.000.000       7\n",
       "535.000.000       7\n",
       "545.000.000       6\n",
       "269.500.000       5\n",
       "235.000.000       4\n",
       "455.000.000       4\n",
       "565.000.000       4\n",
       "649.000.000       4\n",
       "200.000.000       4\n",
       "245.000.000       3\n",
       "575.000.000       3\n",
       "395.000.000       3\n",
       "365.000.000       3\n",
       "185.000.000       3\n",
       "950.000.000       3\n",
       "345.000.000       2\n",
       "845.000.000       2\n",
       "495.000.000       2\n",
       "375.000.000       2\n",
       "325.000.000       2\n",
       "205.000.000       2\n",
       "525.000.000       2\n",
       "170.000.000       1\n",
       "1.125.000.000     1\n",
       "1.183.000.000     1\n",
       "169.000.000       1\n",
       "275.000.000       1\n",
       "650.000.000       1\n",
       "2.240.000.000     1\n",
       "115.000.000       1\n",
       "1.425.000.000     1\n",
       "1.130.000.000     1\n",
       "910.000.000       1\n",
       "549.000.000       1\n",
       "590.000.000       1\n",
       "1.900.000.000     1\n",
       "635.000.000       1\n",
       "700.000.000       1\n",
       "378.418.810       1\n",
       "540.000.000       1\n",
       "196.581.190       1\n",
       "485.000.000       1\n",
       "676.000.000       1\n",
       "1.050.000.000     1\n",
       "290.724.640       1\n",
       "389.275.360       1\n",
       "262.500.000       1\n",
       "250.000.000       1\n",
       "685.000.000       1\n",
       "225.000.000       1\n",
       "335.000.000       1\n",
       "Name: net_sales, dtype: int64"
      ]
     },
     "execution_count": 94,
     "metadata": {},
     "output_type": "execute_result"
    }
   ],
   "source": [
    "df['net_sales'].value_counts()"
   ]
  },
  {
   "cell_type": "markdown",
   "id": "d5c706ed",
   "metadata": {},
   "source": [
    "mengubah format kolom net sales"
   ]
  },
  {
   "cell_type": "code",
   "execution_count": 97,
   "id": "b67f0c92",
   "metadata": {},
   "outputs": [
    {
     "name": "stderr",
     "output_type": "stream",
     "text": [
      "C:\\Users\\fachri\\AppData\\Local\\Temp\\ipykernel_9556\\1227805557.py:1: FutureWarning: The default value of regex will change from True to False in a future version. In addition, single character regular expressions will *not* be treated as literal strings when regex=True.\n",
      "  df['net_sales'] = df['net_sales'].str.replace('.','')\n"
     ]
    }
   ],
   "source": [
    "df['net_sales'] = df['net_sales'].str.replace('.','')"
   ]
  },
  {
   "cell_type": "markdown",
   "id": "5cee2df1",
   "metadata": {},
   "source": [
    "mengubah isi kolom net sales menjadi integer"
   ]
  },
  {
   "cell_type": "code",
   "execution_count": 98,
   "id": "6ed37534",
   "metadata": {},
   "outputs": [],
   "source": [
    "df['net_sales'] = df['net_sales'].astype('int64')"
   ]
  },
  {
   "cell_type": "markdown",
   "id": "d4fc90c6",
   "metadata": {},
   "source": [
    "Menghapus kolom return dan shipping karena isinya homogen (hanya berisi angka 0.0)"
   ]
  },
  {
   "cell_type": "code",
   "execution_count": 101,
   "id": "9aa2f96a",
   "metadata": {},
   "outputs": [],
   "source": [
    "df.drop(columns=['returns', 'shipping'], inplace=True)"
   ]
  },
  {
   "cell_type": "markdown",
   "id": "8f75d077",
   "metadata": {},
   "source": [
    "# EDA"
   ]
  },
  {
   "cell_type": "markdown",
   "id": "fc9629dc",
   "metadata": {},
   "source": [
    "1. Sebutkan 10 produk yang paling banyak dibeli\n",
    "2. sebutkan 10 produk dengan total sales tertinggi\n",
    "3. sebutkan 10 shipping city terbanyak\n",
    "4. sebutkan 10 kota dengan total sales tertinggi"
   ]
  },
  {
   "cell_type": "code",
   "execution_count": 103,
   "id": "5f801d7e",
   "metadata": {},
   "outputs": [
    {
     "data": {
      "text/html": [
       "<div>\n",
       "<style scoped>\n",
       "    .dataframe tbody tr th:only-of-type {\n",
       "        vertical-align: middle;\n",
       "    }\n",
       "\n",
       "    .dataframe tbody tr th {\n",
       "        vertical-align: top;\n",
       "    }\n",
       "\n",
       "    .dataframe thead th {\n",
       "        text-align: right;\n",
       "    }\n",
       "</style>\n",
       "<table border=\"1\" class=\"dataframe\">\n",
       "  <thead>\n",
       "    <tr style=\"text-align: right;\">\n",
       "      <th></th>\n",
       "      <th>product_title</th>\n",
       "      <th>shipping_city</th>\n",
       "      <th>referrer_source</th>\n",
       "      <th>orders</th>\n",
       "      <th>gross_sales</th>\n",
       "      <th>discounts</th>\n",
       "      <th>net_sales</th>\n",
       "      <th>total_sales</th>\n",
       "      <th>net_quantity</th>\n",
       "    </tr>\n",
       "  </thead>\n",
       "  <tbody>\n",
       "    <tr>\n",
       "      <th>0</th>\n",
       "      <td>Canary Scarf Seafoam</td>\n",
       "      <td>Kota Palembang</td>\n",
       "      <td>Social</td>\n",
       "      <td>1.0</td>\n",
       "      <td>275000000</td>\n",
       "      <td>0.0</td>\n",
       "      <td>275000000</td>\n",
       "      <td>275000000</td>\n",
       "      <td>1.0</td>\n",
       "    </tr>\n",
       "    <tr>\n",
       "      <th>1</th>\n",
       "      <td>Claire Blouse Burnt Cinnamon</td>\n",
       "      <td>Kota Palembang</td>\n",
       "      <td>Social</td>\n",
       "      <td>1.0</td>\n",
       "      <td>238000000</td>\n",
       "      <td>0.0</td>\n",
       "      <td>238000000</td>\n",
       "      <td>238000000</td>\n",
       "      <td>1.0</td>\n",
       "    </tr>\n",
       "    <tr>\n",
       "      <th>2</th>\n",
       "      <td>Shea Blouse Sahara</td>\n",
       "      <td>Kab. Bogor</td>\n",
       "      <td>Social</td>\n",
       "      <td>1.0</td>\n",
       "      <td>535000000</td>\n",
       "      <td>0.0</td>\n",
       "      <td>535000000</td>\n",
       "      <td>535000000</td>\n",
       "      <td>1.0</td>\n",
       "    </tr>\n",
       "    <tr>\n",
       "      <th>3</th>\n",
       "      <td>Sheila Dress Clove</td>\n",
       "      <td>Kab. Bogor</td>\n",
       "      <td>Social</td>\n",
       "      <td>1.0</td>\n",
       "      <td>475000000</td>\n",
       "      <td>0.0</td>\n",
       "      <td>475000000</td>\n",
       "      <td>475000000</td>\n",
       "      <td>1.0</td>\n",
       "    </tr>\n",
       "    <tr>\n",
       "      <th>4</th>\n",
       "      <td>Amaya Blouse Hazelwood</td>\n",
       "      <td>Kab. Bogor</td>\n",
       "      <td>Social</td>\n",
       "      <td>1.0</td>\n",
       "      <td>545000000</td>\n",
       "      <td>0.0</td>\n",
       "      <td>545000000</td>\n",
       "      <td>545000000</td>\n",
       "      <td>1.0</td>\n",
       "    </tr>\n",
       "  </tbody>\n",
       "</table>\n",
       "</div>"
      ],
      "text/plain": [
       "                  product_title   shipping_city referrer_source  orders  \\\n",
       "0          Canary Scarf Seafoam  Kota Palembang          Social     1.0   \n",
       "1  Claire Blouse Burnt Cinnamon  Kota Palembang          Social     1.0   \n",
       "2            Shea Blouse Sahara      Kab. Bogor          Social     1.0   \n",
       "3            Sheila Dress Clove      Kab. Bogor          Social     1.0   \n",
       "4        Amaya Blouse Hazelwood      Kab. Bogor          Social     1.0   \n",
       "\n",
       "   gross_sales discounts  net_sales  total_sales  net_quantity  \n",
       "0    275000000       0.0  275000000    275000000           1.0  \n",
       "1    238000000       0.0  238000000    238000000           1.0  \n",
       "2    535000000       0.0  535000000    535000000           1.0  \n",
       "3    475000000       0.0  475000000    475000000           1.0  \n",
       "4    545000000       0.0  545000000    545000000           1.0  "
      ]
     },
     "execution_count": 103,
     "metadata": {},
     "output_type": "execute_result"
    }
   ],
   "source": [
    "df.head()"
   ]
  },
  {
   "cell_type": "markdown",
   "id": "b3533c30",
   "metadata": {},
   "source": [
    "### Sebutkan 10 produk yang paling banyak dibeli"
   ]
  },
  {
   "cell_type": "code",
   "execution_count": 119,
   "id": "18177d13",
   "metadata": {},
   "outputs": [],
   "source": [
    "y=df['product_title'].value_counts().head(10).values"
   ]
  },
  {
   "cell_type": "code",
   "execution_count": 120,
   "id": "d47595c9",
   "metadata": {},
   "outputs": [],
   "source": [
    "x=df['product_title'].value_counts().head(10).index"
   ]
  },
  {
   "cell_type": "code",
   "execution_count": 128,
   "id": "355bd092",
   "metadata": {},
   "outputs": [
    {
     "data": {
      "image/png": "[encoded data removed]",
      "text/plain": [
       "<Figure size 504x504 with 1 Axes>"
      ]
     },
     "metadata": {
      "needs_background": "light"
     },
     "output_type": "display_data"
    }
   ],
   "source": [
    "plt.figure(figsize=(7,7))\n",
    "sns.barplot(x=x, y=y, data=df)\n",
    "plt.title('10 produk yang paling banyak dibeli')\n",
    "plt.xticks(np.arange(10), rotation=90)\n",
    "plt.xlabel('nama produk')\n",
    "plt.ylabel('jumlah pembelian')\n",
    "plt.show()"
   ]
  },
  {
   "cell_type": "markdown",
   "id": "dd81e7f3",
   "metadata": {},
   "source": [
    "### sebutkan 10 produk dengan total sales tertinggi"
   ]
  },
  {
   "cell_type": "code",
   "execution_count": 130,
   "id": "34fbddaa",
   "metadata": {},
   "outputs": [
    {
     "name": "stderr",
     "output_type": "stream",
     "text": [
      "C:\\Users\\fachri\\anaconda3\\lib\\site-packages\\seaborn\\_decorators.py:36: FutureWarning: Pass the following variables as keyword args: x, y. From version 0.12, the only valid positional argument will be `data`, and passing other arguments without an explicit keyword will result in an error or misinterpretation.\n",
      "  warnings.warn(\n"
     ]
    },
    {
     "data": {
      "image/png": "[encoded data removed]",
      "text/plain": [
       "<Figure size 504x504 with 1 Axes>"
      ]
     },
     "metadata": {
      "needs_background": "light"
     },
     "output_type": "display_data"
    }
   ],
   "source": [
    "plt.figure(figsize=(7,7))\n",
    "q = df.groupby('product_title')['total_sales'].sum().sort_values(ascending=False).head(10)\n",
    "q=pd.DataFrame(q).reset_index()\n",
    "sns.barplot(q['product_title'], q['total_sales'])\n",
    "plt.title('10 produk dengan total sales tertinggi', fontsize=13)\n",
    "plt.xticks(np.arange(10), rotation=90)\n",
    "plt.xlabel('nama produk')\n",
    "plt.ylabel('total sales')\n",
    "plt.show()"
   ]
  },
  {
   "cell_type": "markdown",
   "id": "818f860e",
   "metadata": {},
   "source": [
    "### sebutkan 10 shipping city terbanyak"
   ]
  },
  {
   "cell_type": "code",
   "execution_count": 131,
   "id": "cbb05117",
   "metadata": {},
   "outputs": [],
   "source": [
    "y1=df['shipping_city'].value_counts().head(10).values"
   ]
  },
  {
   "cell_type": "code",
   "execution_count": 133,
   "id": "50aed530",
   "metadata": {},
   "outputs": [],
   "source": [
    "x1=df['shipping_city'].value_counts().head(10).index"
   ]
  },
  {
   "cell_type": "code",
   "execution_count": 134,
   "id": "5fbeff78",
   "metadata": {},
   "outputs": [
    {
     "data": {
      "image/png": "[encoded data removed]",
      "text/plain": [
       "<Figure size 504x504 with 1 Axes>"
      ]
     },
     "metadata": {
      "needs_background": "light"
     },
     "output_type": "display_data"
    }
   ],
   "source": [
    "plt.figure(figsize=(7,7))\n",
    "sns.barplot(x=x1, y=y1, data=df)\n",
    "plt.title('10 shipping city terbanyak')\n",
    "plt.xticks(np.arange(10), rotation=90)\n",
    "plt.xlabel('nama kota')\n",
    "plt.ylabel('jumlah pembelian')\n",
    "plt.show()"
   ]
  },
  {
   "cell_type": "markdown",
   "id": "f19cf55f",
   "metadata": {},
   "source": [
    "### sebutkan 10 kota dengan total sales tertinggi"
   ]
  },
  {
   "cell_type": "code",
   "execution_count": 137,
   "id": "e5fb4318",
   "metadata": {},
   "outputs": [
    {
     "name": "stderr",
     "output_type": "stream",
     "text": [
      "C:\\Users\\fachri\\anaconda3\\lib\\site-packages\\seaborn\\_decorators.py:36: FutureWarning: Pass the following variables as keyword args: x, y. From version 0.12, the only valid positional argument will be `data`, and passing other arguments without an explicit keyword will result in an error or misinterpretation.\n",
      "  warnings.warn(\n"
     ]
    },
    {
     "data": {
      "image/png": "[encoded data removed]",
      "text/plain": [
       "<Figure size 504x504 with 1 Axes>"
      ]
     },
     "metadata": {
      "needs_background": "light"
     },
     "output_type": "display_data"
    }
   ],
   "source": [
    "plt.figure(figsize=(7,7))\n",
    "w = df.groupby('shipping_city')['total_sales'].sum().sort_values(ascending=False).head(10)\n",
    "w=pd.DataFrame(w).reset_index()\n",
    "sns.barplot(w['shipping_city'], w['total_sales'])\n",
    "plt.title('10 kota dengan total sales tertinggi', fontsize=13)\n",
    "plt.xticks(np.arange(10), rotation=90)\n",
    "plt.xlabel('Nama Kota')\n",
    "plt.ylabel('Total sales')\n",
    "plt.show()"
   ]
  },
  {
   "cell_type": "markdown",
   "id": "b9e1123b",
   "metadata": {},
   "source": [
    "# Analisis"
   ]
  },
  {
   "cell_type": "markdown",
   "id": "f89b476d",
   "metadata": {},
   "source": [
    "# Berdasarkan Produk\n",
    "1. claire blouse cristal ruby adalah produk unggulan karena menjadi produk yang paling banyak dibeli dan produk dengan total sales tertinggi ke 5\n",
    "2. Amaya Blouse hazzlewood adalah produk unggulan karena menjadi produk nomor 2 yang paling banyak dibeli dan produk dengan total sales tertinggi ke 3\n",
    "3. ruby scarf ocean mist adalah produk unggulan karena menjadi produk nomor 3 yang paling banyak dibeli dan produk dengan total sales tertinggi ke 8\n",
    "4. Alice brooch adalah produk unggulan karena menjadi produk nomor 4 yang paling banyak dibeli dan produk dengan total sales tertinggi ke 9\n",
    "5. Thalia dress woodrose adalah produk unggulan karena menjadi produk nomor 4 yang paling banyak dibeli dan produk dengan total sales tertinggi ke 6\n",
    "6. Selena dress misty grey adalah produk unggulan karena menjadi produk nomor 4 yang paling banyak dibeli dan produk dengan total sales tertinggi ke 4"
   ]
  },
  {
   "cell_type": "markdown",
   "id": "a7d3a351",
   "metadata": {},
   "source": [
    "# Berdasarkan kota\n",
    "1. Kota Palembang adalah kota dengan shipping city terbanyak dan kota dengan total sales tertinggi ke 4\n",
    "2. Kota Tangerang Selatan adalah kota dengan shipping city terbanyak dan kota dengan total sales tertinggi ke 4\n",
    "3. Kota Bekasi adalah kota dengan shipping city terbanyak ke 2 dan kota dengan total sales tertinggi ke 8\n",
    "4. Kota Tangerang adalah kota dengan shipping city terbanyak ke 2 dan kota dengan total sales tertinggi ke 3"
   ]
  },
  {
   "cell_type": "markdown",
   "id": "f78c90c0",
   "metadata": {},
   "source": [
    "# Rekomendasi"
   ]
  },
  {
   "cell_type": "markdown",
   "id": "b4eb4f47",
   "metadata": {},
   "source": [
    "1. Lakukan promosi pada 6 produk unggulan diatas dikarenakan produk tersebut merupakan top 10 produk yang paling banyak dibeli dan top 10 produk yang menghasilkan keuntungan tertinggi. \n",
    "2. Lakukan promosi pada 4 kota diatas dikarena kota tersebut adalah kota dengan top 10 shipping city terbanyak dan kota dengan top 10 total sales tertinggi "
   ]
  },
  {
   "cell_type": "code",
   "execution_count": null,
   "id": "1f8451dd",
   "metadata": {},
   "outputs": [],
   "source": []
  }
 ],
 "metadata": {
  "kernelspec": {
   "display_name": "Python 3 (ipykernel)",
   "language": "python",
   "name": "python3"
  },
  "language_info": {
   "codemirror_mode": {
    "name": "ipython",
    "version": 3
   },
   "file_extension": ".py",
   "mimetype": "text/x-python",
   "name": "python",
   "nbconvert_exporter": "python",
   "pygments_lexer": "ipython3",
   "version": "3.9.12"
  }
 },
 "nbformat": 4,
 "nbformat_minor": 5
}
